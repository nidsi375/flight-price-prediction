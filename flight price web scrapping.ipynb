{
 "cells": [
  {
   "cell_type": "code",
   "execution_count": 1,
   "id": "9e6bd54f",
   "metadata": {},
   "outputs": [],
   "source": [
    "# Importing Libraries/Dependencies\n",
    "import selenium\n",
    "import pandas as pd\n",
    "import numpy as np\n",
    "import time\n",
    "import requests\n",
    "import re\n",
    "import warnings\n",
    "warnings.filterwarnings('ignore')\n",
    "from selenium import webdriver \n",
    "from selenium.webdriver.common.by import By\n",
    "from selenium.webdriver.common.keys import Keys\n",
    "from selenium.webdriver.support.ui import WebDriverWait\n",
    "from selenium.webdriver.common.action_chains import ActionChains\n",
    "from selenium.webdriver.support import expected_conditions as EC\n",
    "from selenium.common.exceptions import ElementNotVisibleException\n",
    "from selenium.common.exceptions import StaleElementReferenceException, NoSuchElementException, ElementClickInterceptedException"
   ]
  },
  {
   "cell_type": "code",
   "execution_count": 2,
   "id": "8794d721",
   "metadata": {},
   "outputs": [],
   "source": [
    "#connecting to chromedriver\n",
    "driver = webdriver.Chrome(r'C:\\Users\\nidsi\\Downloads\\chromedriver_win32 (1)\\chromedriver.exe')"
   ]
  },
  {
   "cell_type": "code",
   "execution_count": 10,
   "id": "e22a0797",
   "metadata": {},
   "outputs": [],
   "source": [
    "# Getting the webpage of mentioned url\n",
    "url = \"https://www.yatra.com/\"\n",
    "driver.get(url)\n",
    "time.sleep(25)"
   ]
  },
  {
   "cell_type": "code",
   "execution_count": 11,
   "id": "baa14a10",
   "metadata": {},
   "outputs": [],
   "source": [
    "#making a list of locations to scrap data\n",
    "loc_lst = ['New Delhi', 'Mumbai', 'Bangalore', 'Chennai','Hyderabad ','Goa ','Kolkata ','Jaipur ','Lucknow ']\n"
   ]
  },
  {
   "cell_type": "code",
   "execution_count": 12,
   "id": "a7162dce",
   "metadata": {},
   "outputs": [],
   "source": [
    "# Creating empty lists to fetch required data\n",
    "\n",
    "Airline_name=[]      # The name of the airline.\n",
    "Departure_time = []  # The time when the journey starts from the source.\n",
    "Arrival_time = []    # Time of arrival at the destination.\n",
    "Duration=[]          # Total duration taken by the flight to reach the destination from the source.\n",
    "Stops = []           # Total stops between the source and destination.\n",
    "Source = []          # The source from which the service begins.\n",
    "Destination = []     # The destination where the service ends.\n",
    "Meal=[]              # Availability of meals in the flight.\n",
    "Price=[]             # The price of the flight ticket.\n",
    "Location=[]       "
   ]
  },
  {
   "cell_type": "code",
   "execution_count": null,
   "id": "f885f85e",
   "metadata": {},
   "outputs": [],
   "source": [
    "# Scraping the data from the mentioned url\n",
    "\n",
    "# Fetching webelement of source \n",
    "for x in loc_lst:\n",
    "    for y in loc_lst:\n",
    "        if x!=y:                 \n",
    "            Source = driver.find_elements(By.XPATH,'/html/body/div[2]/div/section/div[1]/div/div[1]/section/div/div/div/div[1]/div[1]/div[2]/ul/li[1]/ul/li[1]/div/label/input')\n",
    "            time.sleep(2)\n",
    "            Source.clear() \n",
    "            Source.send_keys(x)\n",
    "            time.sleep(2)\n",
    "            \n",
    "            \n",
    "            # Fetching webelement of destination\n",
    "            Destination = driver.find_element(By.XPATH,'/html/body/div[2]/div/section/div[1]/div/div[1]/section/div/div/div/div[1]/div[1]/div[2]/ul/li[1]/ul/li[3]/div/label/input')\n",
    "            Destination.click()\n",
    "            Destination.clear()\n",
    "            time.sleep(2)\n",
    "            Destination.send_keys(y)\n",
    "            time.sleep(2)\n",
    "            \n",
    "            # Searching for flights again and clicking in search again button\n",
    "            try:\n",
    "                srch_btn = driver.find_elements(By.XPATH,'/html/body/div[2]/div/section/div[1]/div/div[1]/section/div/div/div/div[1]/div[3]/div[2]/div[1]/input')\n",
    "                wait = WebDriverWait(driver, 10)\n",
    "                wait.until(EC.visibility_of(srch_btn))\n",
    "                srch_btn.click()\n",
    "            except NoSuchElementException:\n",
    "                pass\n",
    "            time.sleep(2)\n",
    "            \n",
    "            # Scrolling the data 5000 times \n",
    "            for _ in range(15):\n",
    "                time.sleep(1)\n",
    "                driver.execute_script(\"window.scrollBy(0,5000)\")\n",
    "                time.sleep(5)\n",
    "            \n",
    "            # Fetching web element of scroll to top button\n",
    "            try:\n",
    "                driver.find_elements(By.XPATH,'//div[@title=\"scroll to top\"]').click()\n",
    "            except NoSuchElementException:\n",
    "                pass\n",
    "            \n",
    "           # Fetching name of Airline\n",
    "            try:\n",
    "                for i in driver.find_elements(By.XPATH,'//div[@class=\"fs-13 airline-name no-pad col-8\"]/span'):\n",
    "                    Airline_name.append(i.text)\n",
    "            except NoSuchElementException:\n",
    "                pass\n",
    "            \n",
    "            # Fetching departure time of the flights\n",
    "            try:\n",
    "                for i in driver.find_elements(By.XPATH,'/div[@class=\"i-b pr\"]'):\n",
    "                    Departure_time.append(i.text)\n",
    "            except NoSuchElementException:\n",
    "                pass\n",
    "            \n",
    "            # Fetching arrival time of the flights \n",
    "            try:\n",
    "                for i in driver.find_elements(By.XPATH,'//div[@class=\"i-b pdd-0 text-left atime col-5\"]//p[1]'):\n",
    "                    Arrival_time.append(i.get_attribute(\"innerHTML\").splitlines()[0][0:5])\n",
    "            except NoSuchElementException:\n",
    "                pass\n",
    "            \n",
    "            # Fetching Duration of flights journey\n",
    "            try:\n",
    "                for i in driver.find_elements(By.XPATH,'//div[@class=\"stop-cont pl-13\"]/p'):\n",
    "                    Duration.append(i.text)\n",
    "            except NoSuchElementException:\n",
    "                pass\n",
    "            \n",
    "            # Fetching number of stops the flights have between source and destination\n",
    "            try:\n",
    "                for i in driver.find_elements(By.XPATH,'//div[@class= \" font-lightgrey fs-10 tipsy i-b fs-10\"]/span[1]'):\n",
    "                    Stops.append(i.text)\n",
    "            except NoSuchElementException:\n",
    "                pass\n",
    "            \n",
    "            # Fetching availability of meal in flights\n",
    "            try:\n",
    "                for i in driver.find_elements(By.XPATH,'//div[@class=\"features pull-right fs-12 flex\"]/div[1]'):\n",
    "                    Meal.append(i.text)\n",
    "            except NoSuchElementException:\n",
    "                pass\n",
    "            \n",
    "            # Fetching Locations\n",
    "            try:\n",
    "                for i in driver.find_elements(By.XPATH,'//p[@class=\"fs-10 font-lightgrey no-wrap city ellipsis\"]'):\n",
    "                    Location.append(i.text)\n",
    "            except NoSuchElementException:\n",
    "                pass\n",
    "            \n",
    "            # Fetching Prices of flight tickets\n",
    "            try:\n",
    "                for i in driver.find_elements(By.XPATH,'//div[@class=\"i-b tipsy fare-summary-tooltip fs-18\"]'):\n",
    "                    Price.append(i.text)\n",
    "            except NoSuchElementException:\n",
    "                pass    "
   ]
  },
  {
   "cell_type": "code",
   "execution_count": null,
   "id": "4521e95b",
   "metadata": {},
   "outputs": [],
   "source": [
    "\n",
    "Source = Location[0:len(Location):2]\n",
    "Destination = Location[1:len(Location):2]\n"
   ]
  },
  {
   "cell_type": "code",
   "execution_count": null,
   "id": "cd0bb33b",
   "metadata": {},
   "outputs": [],
   "source": [
    "\n",
    "# Checking length of source and destination\n",
    "len(Source), len(Destination)\n"
   ]
  },
  {
   "cell_type": "code",
   "execution_count": null,
   "id": "8c59d099",
   "metadata": {},
   "outputs": [],
   "source": [
    "# Checking lengths of all features\n",
    "print(len(Price),len(Airline_name),len(Departure_time),len(Arrival_time),len(Duration),len(Stops),len(Meal))\n"
   ]
  },
  {
   "cell_type": "code",
   "execution_count": null,
   "id": "18ad16ec",
   "metadata": {},
   "outputs": [],
   "source": [
    "\n",
    "# Creating a dataframe for scraped data\n",
    "data = list(zip(Airline_name,Departure_time,Arrival_time,Duration,Source,Destination,Meal,Stops,Price))\n",
    "df = pd.DataFrame(data, columns = [\"Airline\",\"Departure_time\",\"Time_of_arrival\",\"Duration\", \"Source\",\"Destination\",\"Meal_availability\",\"Number_of_stops\",\"Price\"])\n"
   ]
  },
  {
   "cell_type": "code",
   "execution_count": null,
   "id": "2f76ff31",
   "metadata": {},
   "outputs": [],
   "source": [
    "\n",
    "# Saving the data into excel file\n",
    "df.to_excel(\"Flight_Prices.xlsx\")\n"
   ]
  }
 ],
 "metadata": {
  "kernelspec": {
   "display_name": "Python 3 (ipykernel)",
   "language": "python",
   "name": "python3"
  },
  "language_info": {
   "codemirror_mode": {
    "name": "ipython",
    "version": 3
   },
   "file_extension": ".py",
   "mimetype": "text/x-python",
   "name": "python",
   "nbconvert_exporter": "python",
   "pygments_lexer": "ipython3",
   "version": "3.9.7"
  }
 },
 "nbformat": 4,
 "nbformat_minor": 5
}
